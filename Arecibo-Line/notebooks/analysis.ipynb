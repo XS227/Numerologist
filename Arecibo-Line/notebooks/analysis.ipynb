{
 "cells": [
  {
   "cell_type": "markdown",
   "metadata": {},
   "source": [
    "# Arecibo Line Exploration\n",
    "\n",
    "This notebook outlines the exploratory workflow for the project."
   ]
  },
  {
   "cell_type": "code",
   "execution_count": null,
   "metadata": {},
   "outputs": [],
   "source": [
    "from pathlib import Path\n",
    "\n",
    "import pandas as pd\n",
    "\n",
    "from Arecibo-Line.src.numerology import reduce_to_vibration\n",
    "from Arecibo-Line.src.resonance_model import load_event_table, interpret_sequence\n",
    "from Arecibo-Line.src.visualization import plot_timeline\n"
   ]
  },
  {
   "cell_type": "markdown",
   "metadata": {},
   "source": [
    "## Load data\n",
    "\n",
    "Update the paths to point at local CSV files before running the cells below."
   ]
  },
  {
   "cell_type": "code",
   "execution_count": null,
   "metadata": {},
   "outputs": [],
   "source": [
    "arecibo = load_event_table(Path('../data/arecibo_1974.csv'))\n",
    "wow = load_event_table(Path('../data/wow_1977.csv'))\n",
    "frb = load_event_table(Path('../data/frb_121102.csv'))\n",
    "dataset = pd.concat([arecibo, wow, frb], ignore_index=True)\n",
    "dataset['name'] = dataset.get('name', dataset.get('identifier', 'Pulse'))\n",
    "dataset\n"
   ]
  },
  {
   "cell_type": "markdown",
   "metadata": {},
   "source": [
    "## Interpret vibrations"
   ]
  },
  {
   "cell_type": "code",
   "execution_count": null,
   "metadata": {},
   "outputs": [],
   "source": [
    "interpretation = interpret_sequence(dataset['vibration'])\n",
    "list(zip(dataset['name'], interpretation))\n"
   ]
  },
  {
   "cell_type": "markdown",
   "metadata": {},
   "source": [
    "## Visualise timeline"
   ]
  },
  {
   "cell_type": "code",
   "execution_count": null,
   "metadata": {},
   "outputs": [],
   "source": [
    "fig = plot_timeline(dataset, title='Arecibo Line Pulses')\n",
    "fig"
   ]
  }
 ],
 "metadata": {
  "kernelspec": {
   "display_name": "Python 3",
   "language": "python",
   "name": "python3"
  },
  "language_info": {
   "name": "python",
   "version": "3.11"
  }
 },
 "nbformat": 4,
 "nbformat_minor": 5
}
